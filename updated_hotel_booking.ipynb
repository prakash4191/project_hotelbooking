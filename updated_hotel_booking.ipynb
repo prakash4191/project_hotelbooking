{
  "nbformat": 4,
  "nbformat_minor": 0,
  "metadata": {
    "colab": {
      "name": "updated hotel_booking",
      "provenance": [],
      "collapsed_sections": [
        "2vPbatFD2a1C",
        "pg5pFCY-3LZF",
        "keDHX_f4sI0q",
        "j41sq3rksLok",
        "UVLMp7-p4q0S",
        "iPghz7Ou0Aob",
        "BK3nm1AA53N9",
        "YwMA-7dU7kl1",
        "uDICgGDp957j",
        "gIAREqY5AWt1",
        "c2G-e-pJFdti",
        "lO_yh-56Ok4T",
        "a6mMGisYW0Mj",
        "q72l3t_e8laL",
        "PNfnY3apjMY_",
        "xfy_YeN-lES4",
        "u8lSwIzgr22S",
        "-qdNXc4mqIa-",
        "e1xysG2wp5E8",
        "j2FbKoKPqYp9",
        "42yL6SJPLcST",
        "a_3OB3_rq7J5",
        "UpWoH5xSrwIF",
        "-thWEQx0r_7q",
        "eu4oB6j4wqKa"
      ],
      "authorship_tag": "ABX9TyMr/3GjUFXO5qBR+Cf+ktO0",
      "include_colab_link": true
    },
    "kernelspec": {
      "name": "python3",
      "display_name": "Python 3"
    },
    "language_info": {
      "name": "python"
    }
  },
  "cells": [
    {
      "cell_type": "markdown",
      "metadata": {
        "id": "view-in-github",
        "colab_type": "text"
      },
      "source": [
        "<a href=\"https://colab.research.google.com/github/prakash4191/project_hotelbooking/blob/main/updated_hotel_booking.ipynb\" target=\"_parent\"><img src=\"https://colab.research.google.com/assets/colab-badge.svg\" alt=\"Open In Colab\"/></a>"
      ]
    },
    {
      "cell_type": "markdown",
      "source": [
        "# Data Analysis of the Hotel Booking"
      ],
      "metadata": {
        "id": "2vPbatFD2a1C"
      }
    },
    {
      "cell_type": "markdown",
      "source": [
        "We will use the Hotel Booking dataset for analysis\n",
        "\n",
        "This data set contains booking information for a city hotel and a resort hotel and includes information such as when the booking was made, length of stay, the number of adults, children, and/or babies, and the number of available parking spaces, among other things. "
      ],
      "metadata": {
        "id": "M-keWXb22lws"
      }
    },
    {
      "cell_type": "markdown",
      "source": [
        "We will try to answer the following Questions\n",
        "\n",
        "Have you ever wondered when the best time of year to book a hotel room is?\n",
        "\n",
        "Or #the optimal length of stay in order to get the best daily rate?\n",
        "\n",
        "What if you wanted to predict whether or not a hotel was likely to receive a disproportionately high number of special requests? This hotel booking dataset can help you explore those questions!\n",
        "\n",
        "What are the Top 10 Countries of Origin of Hotel visitors (Guests) -Which Month is the Most Occupied with Bookings at the Hotel?\n",
        "\n",
        "-How many Bookings were Cancelled at the Hotel?\n",
        "\n",
        "-Which Month Has Highest Number of Cancellations By Hotel Type?\n",
        "\n",
        "-How many Bookings were Cancelled by Hotel Type?\n",
        "\n",
        "-Relationship between Average Daily Rate(ADR) and Arrival Month by Booking Cancellation Status\n",
        "\n",
        "-Total Number of Bookings by Market Segment\n",
        "\n",
        "-Arrival Date Year vs Lead Time By Booking Cancellation Status\n",
        "\n",
        "-Relationship between Special Requests and Cancellations\n",
        "\n",
        "-How does the ADR Vary Over the Year by Hotel Type\n",
        "\n",
        "-What is the Effect of Deposit Type on Cancellations\n",
        "\n",
        "- % of customer requrired for parking spaces"
      ],
      "metadata": {
        "id": "vlLSp40224Lt"
      }
    },
    {
      "cell_type": "markdown",
      "source": [
        "# First Import necessary packages and import the dataset"
      ],
      "metadata": {
        "id": "pg5pFCY-3LZF"
      }
    },
    {
      "cell_type": "code",
      "source": [
        "#importing pandas,numpy,seaborn,matplotlib\n",
        "\n",
        "import pandas as pd\n",
        "import numpy as np\n",
        "import seaborn as sns\n",
        "import matplotlib.pyplot as plt\n",
        "%matplotlib inline"
      ],
      "metadata": {
        "id": "Tf8gnRyT3Pnu"
      },
      "execution_count": null,
      "outputs": []
    },
    {
      "cell_type": "markdown",
      "source": [
        "1.Understand the problem. We'll look at each variable and do a philosophical analysis about their meaning and importance for this problem. 2.Univariable study. We'll just focus on the dependent variable and try to know a little bit more about it.\n",
        "\n",
        "3.Multivariate study. We'll try to understand how the dependent variable and independent variables relate.\n",
        "\n",
        "4.Basic cleaning. We'll clean the dataset and handle the missing data, outliers and categorical variables.\n",
        "\n",
        "5.Test assumptions. We'll check if our data meets the assumptions required by most multivariate techniques."
      ],
      "metadata": {
        "id": "7C5n1Ygw3dF8"
      }
    },
    {
      "cell_type": "markdown",
      "source": [
        "#Mounting google drive"
      ],
      "metadata": {
        "id": "keDHX_f4sI0q"
      }
    },
    {
      "cell_type": "code",
      "source": [
        "#Mounting google drive\n",
        "from google.colab import drive \n",
        "drive.mount('/content/drive')"
      ],
      "metadata": {
        "colab": {
          "base_uri": "https://localhost:8080/"
        },
        "id": "Z71AWPOO3XIr",
        "outputId": "9d1c1408-5280-443d-8e9b-07a59c7cf7d1"
      },
      "execution_count": null,
      "outputs": [
        {
          "output_type": "stream",
          "name": "stdout",
          "text": [
            "Drive already mounted at /content/drive; to attempt to forcibly remount, call drive.mount(\"/content/drive\", force_remount=True).\n"
          ]
        }
      ]
    },
    {
      "cell_type": "markdown",
      "source": [
        "# Mounting path of data from google drive and reading csv file "
      ],
      "metadata": {
        "id": "j41sq3rksLok"
      }
    },
    {
      "cell_type": "code",
      "source": [
        "# Mounting path of data from google drive and reading csv file \n",
        "\n",
        "hb=pd.read_csv('/content/drive/MyDrive/DS/PROJECT/HOTEL BOOKING/Copy of Hotel Bookings.csv')"
      ],
      "metadata": {
        "id": "_85Xy7KU3wLC"
      },
      "execution_count": null,
      "outputs": []
    },
    {
      "cell_type": "code",
      "source": [
        "# Extracting infromation from \n",
        "hb.head()"
      ],
      "metadata": {
        "colab": {
          "base_uri": "https://localhost:8080/",
          "height": 386
        },
        "id": "S9_OTeew31a9",
        "outputId": "61097be1-f47f-4457-da10-dd1e91bda9e3"
      },
      "execution_count": null,
      "outputs": [
        {
          "output_type": "execute_result",
          "data": {
            "text/plain": [
              "          hotel  is_canceled  lead_time  arrival_date_year arrival_date_month  \\\n",
              "0  Resort Hotel            0        342               2015               July   \n",
              "1  Resort Hotel            0        737               2015               July   \n",
              "2  Resort Hotel            0          7               2015               July   \n",
              "3  Resort Hotel            0         13               2015               July   \n",
              "4  Resort Hotel            0         14               2015               July   \n",
              "\n",
              "   arrival_date_week_number  arrival_date_day_of_month  \\\n",
              "0                        27                          1   \n",
              "1                        27                          1   \n",
              "2                        27                          1   \n",
              "3                        27                          1   \n",
              "4                        27                          1   \n",
              "\n",
              "   stays_in_weekend_nights  stays_in_week_nights  adults  ...  deposit_type  \\\n",
              "0                        0                     0       2  ...    No Deposit   \n",
              "1                        0                     0       2  ...    No Deposit   \n",
              "2                        0                     1       1  ...    No Deposit   \n",
              "3                        0                     1       1  ...    No Deposit   \n",
              "4                        0                     2       2  ...    No Deposit   \n",
              "\n",
              "   agent company days_in_waiting_list customer_type   adr  \\\n",
              "0    NaN     NaN                    0     Transient   0.0   \n",
              "1    NaN     NaN                    0     Transient   0.0   \n",
              "2    NaN     NaN                    0     Transient  75.0   \n",
              "3  304.0     NaN                    0     Transient  75.0   \n",
              "4  240.0     NaN                    0     Transient  98.0   \n",
              "\n",
              "   required_car_parking_spaces  total_of_special_requests  reservation_status  \\\n",
              "0                            0                          0           Check-Out   \n",
              "1                            0                          0           Check-Out   \n",
              "2                            0                          0           Check-Out   \n",
              "3                            0                          0           Check-Out   \n",
              "4                            0                          1           Check-Out   \n",
              "\n",
              "  reservation_status_date  \n",
              "0              2015-07-01  \n",
              "1              2015-07-01  \n",
              "2              2015-07-02  \n",
              "3              2015-07-02  \n",
              "4              2015-07-03  \n",
              "\n",
              "[5 rows x 32 columns]"
            ],
            "text/html": [
              "\n",
              "  <div id=\"df-e565c250-2697-4262-b6b7-600243a6d62e\">\n",
              "    <div class=\"colab-df-container\">\n",
              "      <div>\n",
              "<style scoped>\n",
              "    .dataframe tbody tr th:only-of-type {\n",
              "        vertical-align: middle;\n",
              "    }\n",
              "\n",
              "    .dataframe tbody tr th {\n",
              "        vertical-align: top;\n",
              "    }\n",
              "\n",
              "    .dataframe thead th {\n",
              "        text-align: right;\n",
              "    }\n",
              "</style>\n",
              "<table border=\"1\" class=\"dataframe\">\n",
              "  <thead>\n",
              "    <tr style=\"text-align: right;\">\n",
              "      <th></th>\n",
              "      <th>hotel</th>\n",
              "      <th>is_canceled</th>\n",
              "      <th>lead_time</th>\n",
              "      <th>arrival_date_year</th>\n",
              "      <th>arrival_date_month</th>\n",
              "      <th>arrival_date_week_number</th>\n",
              "      <th>arrival_date_day_of_month</th>\n",
              "      <th>stays_in_weekend_nights</th>\n",
              "      <th>stays_in_week_nights</th>\n",
              "      <th>adults</th>\n",
              "      <th>...</th>\n",
              "      <th>deposit_type</th>\n",
              "      <th>agent</th>\n",
              "      <th>company</th>\n",
              "      <th>days_in_waiting_list</th>\n",
              "      <th>customer_type</th>\n",
              "      <th>adr</th>\n",
              "      <th>required_car_parking_spaces</th>\n",
              "      <th>total_of_special_requests</th>\n",
              "      <th>reservation_status</th>\n",
              "      <th>reservation_status_date</th>\n",
              "    </tr>\n",
              "  </thead>\n",
              "  <tbody>\n",
              "    <tr>\n",
              "      <th>0</th>\n",
              "      <td>Resort Hotel</td>\n",
              "      <td>0</td>\n",
              "      <td>342</td>\n",
              "      <td>2015</td>\n",
              "      <td>July</td>\n",
              "      <td>27</td>\n",
              "      <td>1</td>\n",
              "      <td>0</td>\n",
              "      <td>0</td>\n",
              "      <td>2</td>\n",
              "      <td>...</td>\n",
              "      <td>No Deposit</td>\n",
              "      <td>NaN</td>\n",
              "      <td>NaN</td>\n",
              "      <td>0</td>\n",
              "      <td>Transient</td>\n",
              "      <td>0.0</td>\n",
              "      <td>0</td>\n",
              "      <td>0</td>\n",
              "      <td>Check-Out</td>\n",
              "      <td>2015-07-01</td>\n",
              "    </tr>\n",
              "    <tr>\n",
              "      <th>1</th>\n",
              "      <td>Resort Hotel</td>\n",
              "      <td>0</td>\n",
              "      <td>737</td>\n",
              "      <td>2015</td>\n",
              "      <td>July</td>\n",
              "      <td>27</td>\n",
              "      <td>1</td>\n",
              "      <td>0</td>\n",
              "      <td>0</td>\n",
              "      <td>2</td>\n",
              "      <td>...</td>\n",
              "      <td>No Deposit</td>\n",
              "      <td>NaN</td>\n",
              "      <td>NaN</td>\n",
              "      <td>0</td>\n",
              "      <td>Transient</td>\n",
              "      <td>0.0</td>\n",
              "      <td>0</td>\n",
              "      <td>0</td>\n",
              "      <td>Check-Out</td>\n",
              "      <td>2015-07-01</td>\n",
              "    </tr>\n",
              "    <tr>\n",
              "      <th>2</th>\n",
              "      <td>Resort Hotel</td>\n",
              "      <td>0</td>\n",
              "      <td>7</td>\n",
              "      <td>2015</td>\n",
              "      <td>July</td>\n",
              "      <td>27</td>\n",
              "      <td>1</td>\n",
              "      <td>0</td>\n",
              "      <td>1</td>\n",
              "      <td>1</td>\n",
              "      <td>...</td>\n",
              "      <td>No Deposit</td>\n",
              "      <td>NaN</td>\n",
              "      <td>NaN</td>\n",
              "      <td>0</td>\n",
              "      <td>Transient</td>\n",
              "      <td>75.0</td>\n",
              "      <td>0</td>\n",
              "      <td>0</td>\n",
              "      <td>Check-Out</td>\n",
              "      <td>2015-07-02</td>\n",
              "    </tr>\n",
              "    <tr>\n",
              "      <th>3</th>\n",
              "      <td>Resort Hotel</td>\n",
              "      <td>0</td>\n",
              "      <td>13</td>\n",
              "      <td>2015</td>\n",
              "      <td>July</td>\n",
              "      <td>27</td>\n",
              "      <td>1</td>\n",
              "      <td>0</td>\n",
              "      <td>1</td>\n",
              "      <td>1</td>\n",
              "      <td>...</td>\n",
              "      <td>No Deposit</td>\n",
              "      <td>304.0</td>\n",
              "      <td>NaN</td>\n",
              "      <td>0</td>\n",
              "      <td>Transient</td>\n",
              "      <td>75.0</td>\n",
              "      <td>0</td>\n",
              "      <td>0</td>\n",
              "      <td>Check-Out</td>\n",
              "      <td>2015-07-02</td>\n",
              "    </tr>\n",
              "    <tr>\n",
              "      <th>4</th>\n",
              "      <td>Resort Hotel</td>\n",
              "      <td>0</td>\n",
              "      <td>14</td>\n",
              "      <td>2015</td>\n",
              "      <td>July</td>\n",
              "      <td>27</td>\n",
              "      <td>1</td>\n",
              "      <td>0</td>\n",
              "      <td>2</td>\n",
              "      <td>2</td>\n",
              "      <td>...</td>\n",
              "      <td>No Deposit</td>\n",
              "      <td>240.0</td>\n",
              "      <td>NaN</td>\n",
              "      <td>0</td>\n",
              "      <td>Transient</td>\n",
              "      <td>98.0</td>\n",
              "      <td>0</td>\n",
              "      <td>1</td>\n",
              "      <td>Check-Out</td>\n",
              "      <td>2015-07-03</td>\n",
              "    </tr>\n",
              "  </tbody>\n",
              "</table>\n",
              "<p>5 rows × 32 columns</p>\n",
              "</div>\n",
              "      <button class=\"colab-df-convert\" onclick=\"convertToInteractive('df-e565c250-2697-4262-b6b7-600243a6d62e')\"\n",
              "              title=\"Convert this dataframe to an interactive table.\"\n",
              "              style=\"display:none;\">\n",
              "        \n",
              "  <svg xmlns=\"http://www.w3.org/2000/svg\" height=\"24px\"viewBox=\"0 0 24 24\"\n",
              "       width=\"24px\">\n",
              "    <path d=\"M0 0h24v24H0V0z\" fill=\"none\"/>\n",
              "    <path d=\"M18.56 5.44l.94 2.06.94-2.06 2.06-.94-2.06-.94-.94-2.06-.94 2.06-2.06.94zm-11 1L8.5 8.5l.94-2.06 2.06-.94-2.06-.94L8.5 2.5l-.94 2.06-2.06.94zm10 10l.94 2.06.94-2.06 2.06-.94-2.06-.94-.94-2.06-.94 2.06-2.06.94z\"/><path d=\"M17.41 7.96l-1.37-1.37c-.4-.4-.92-.59-1.43-.59-.52 0-1.04.2-1.43.59L10.3 9.45l-7.72 7.72c-.78.78-.78 2.05 0 2.83L4 21.41c.39.39.9.59 1.41.59.51 0 1.02-.2 1.41-.59l7.78-7.78 2.81-2.81c.8-.78.8-2.07 0-2.86zM5.41 20L4 18.59l7.72-7.72 1.47 1.35L5.41 20z\"/>\n",
              "  </svg>\n",
              "      </button>\n",
              "      \n",
              "  <style>\n",
              "    .colab-df-container {\n",
              "      display:flex;\n",
              "      flex-wrap:wrap;\n",
              "      gap: 12px;\n",
              "    }\n",
              "\n",
              "    .colab-df-convert {\n",
              "      background-color: #E8F0FE;\n",
              "      border: none;\n",
              "      border-radius: 50%;\n",
              "      cursor: pointer;\n",
              "      display: none;\n",
              "      fill: #1967D2;\n",
              "      height: 32px;\n",
              "      padding: 0 0 0 0;\n",
              "      width: 32px;\n",
              "    }\n",
              "\n",
              "    .colab-df-convert:hover {\n",
              "      background-color: #E2EBFA;\n",
              "      box-shadow: 0px 1px 2px rgba(60, 64, 67, 0.3), 0px 1px 3px 1px rgba(60, 64, 67, 0.15);\n",
              "      fill: #174EA6;\n",
              "    }\n",
              "\n",
              "    [theme=dark] .colab-df-convert {\n",
              "      background-color: #3B4455;\n",
              "      fill: #D2E3FC;\n",
              "    }\n",
              "\n",
              "    [theme=dark] .colab-df-convert:hover {\n",
              "      background-color: #434B5C;\n",
              "      box-shadow: 0px 1px 3px 1px rgba(0, 0, 0, 0.15);\n",
              "      filter: drop-shadow(0px 1px 2px rgba(0, 0, 0, 0.3));\n",
              "      fill: #FFFFFF;\n",
              "    }\n",
              "  </style>\n",
              "\n",
              "      <script>\n",
              "        const buttonEl =\n",
              "          document.querySelector('#df-e565c250-2697-4262-b6b7-600243a6d62e button.colab-df-convert');\n",
              "        buttonEl.style.display =\n",
              "          google.colab.kernel.accessAllowed ? 'block' : 'none';\n",
              "\n",
              "        async function convertToInteractive(key) {\n",
              "          const element = document.querySelector('#df-e565c250-2697-4262-b6b7-600243a6d62e');\n",
              "          const dataTable =\n",
              "            await google.colab.kernel.invokeFunction('convertToInteractive',\n",
              "                                                     [key], {});\n",
              "          if (!dataTable) return;\n",
              "\n",
              "          const docLinkHtml = 'Like what you see? Visit the ' +\n",
              "            '<a target=\"_blank\" href=https://colab.research.google.com/notebooks/data_table.ipynb>data table notebook</a>'\n",
              "            + ' to learn more about interactive tables.';\n",
              "          element.innerHTML = '';\n",
              "          dataTable['output_type'] = 'display_data';\n",
              "          await google.colab.output.renderOutput(dataTable, element);\n",
              "          const docLink = document.createElement('div');\n",
              "          docLink.innerHTML = docLinkHtml;\n",
              "          element.appendChild(docLink);\n",
              "        }\n",
              "      </script>\n",
              "    </div>\n",
              "  </div>\n",
              "  "
            ]
          },
          "metadata": {},
          "execution_count": 9
        }
      ]
    },
    {
      "cell_type": "code",
      "source": [
        "hb.shape"
      ],
      "metadata": {
        "colab": {
          "base_uri": "https://localhost:8080/"
        },
        "id": "F6LqmWxu1xf6",
        "outputId": "0836e09c-9bce-46b4-daaf-e988203d3263"
      },
      "execution_count": null,
      "outputs": [
        {
          "output_type": "execute_result",
          "data": {
            "text/plain": [
              "(119390, 32)"
            ]
          },
          "metadata": {},
          "execution_count": 10
        }
      ]
    },
    {
      "cell_type": "markdown",
      "source": [
        "#Dealing with Missing Values\n",
        "Checking if data contains any missing values"
      ],
      "metadata": {
        "id": "UVLMp7-p4q0S"
      }
    },
    {
      "cell_type": "code",
      "source": [
        "hb.isna().sum().sort_values(ascending=False)"
      ],
      "metadata": {
        "colab": {
          "base_uri": "https://localhost:8080/"
        },
        "id": "LOyFYS0J20yN",
        "outputId": "a1ba2340-ee19-42ca-ae16-4448753a6ea1"
      },
      "execution_count": null,
      "outputs": [
        {
          "output_type": "execute_result",
          "data": {
            "text/plain": [
              "company                           112593\n",
              "agent                              16340\n",
              "country                              488\n",
              "children                               4\n",
              "reserved_room_type                     0\n",
              "assigned_room_type                     0\n",
              "booking_changes                        0\n",
              "deposit_type                           0\n",
              "hotel                                  0\n",
              "previous_cancellations                 0\n",
              "days_in_waiting_list                   0\n",
              "customer_type                          0\n",
              "adr                                    0\n",
              "required_car_parking_spaces            0\n",
              "total_of_special_requests              0\n",
              "reservation_status                     0\n",
              "previous_bookings_not_canceled         0\n",
              "is_repeated_guest                      0\n",
              "is_canceled                            0\n",
              "distribution_channel                   0\n",
              "market_segment                         0\n",
              "meal                                   0\n",
              "babies                                 0\n",
              "adults                                 0\n",
              "stays_in_week_nights                   0\n",
              "stays_in_weekend_nights                0\n",
              "arrival_date_day_of_month              0\n",
              "arrival_date_week_number               0\n",
              "arrival_date_month                     0\n",
              "arrival_date_year                      0\n",
              "lead_time                              0\n",
              "reservation_status_date                0\n",
              "dtype: int64"
            ]
          },
          "metadata": {},
          "execution_count": 11
        }
      ]
    },
    {
      "cell_type": "code",
      "source": [
        "hb.isnull().sum().sort_values(ascending=False)"
      ],
      "metadata": {
        "colab": {
          "base_uri": "https://localhost:8080/"
        },
        "id": "KZGO6UWO4Xid",
        "outputId": "c8ff88fe-8639-44cd-e37e-e07522a4967b"
      },
      "execution_count": null,
      "outputs": [
        {
          "output_type": "execute_result",
          "data": {
            "text/plain": [
              "company                           112593\n",
              "agent                              16340\n",
              "country                              488\n",
              "children                               4\n",
              "reserved_room_type                     0\n",
              "assigned_room_type                     0\n",
              "booking_changes                        0\n",
              "deposit_type                           0\n",
              "hotel                                  0\n",
              "previous_cancellations                 0\n",
              "days_in_waiting_list                   0\n",
              "customer_type                          0\n",
              "adr                                    0\n",
              "required_car_parking_spaces            0\n",
              "total_of_special_requests              0\n",
              "reservation_status                     0\n",
              "previous_bookings_not_canceled         0\n",
              "is_repeated_guest                      0\n",
              "is_canceled                            0\n",
              "distribution_channel                   0\n",
              "market_segment                         0\n",
              "meal                                   0\n",
              "babies                                 0\n",
              "adults                                 0\n",
              "stays_in_week_nights                   0\n",
              "stays_in_weekend_nights                0\n",
              "arrival_date_day_of_month              0\n",
              "arrival_date_week_number               0\n",
              "arrival_date_month                     0\n",
              "arrival_date_year                      0\n",
              "lead_time                              0\n",
              "reservation_status_date                0\n",
              "dtype: int64"
            ]
          },
          "metadata": {},
          "execution_count": 12
        }
      ]
    },
    {
      "cell_type": "markdown",
      "source": [
        "In the agent and the company column, we have id_number for each agent or company, so for all the missing values, we will just replace it with 0.\n",
        "\n",
        "Children column contains the count of children, so we will replace all the missing values\n"
      ],
      "metadata": {
        "id": "mnCv6EF45Tib"
      }
    },
    {
      "cell_type": "code",
      "source": [
        "hb['children'].fillna(0,inplace=True)\n",
        "hb['country'].fillna('xyz',inplace=True)\n",
        "hb['company'].fillna(0,inplace=True)\n",
        "hb['agent'].fillna(0,inplace=True)\n"
      ],
      "metadata": {
        "id": "ShmbyL1v4lLk"
      },
      "execution_count": null,
      "outputs": []
    },
    {
      "cell_type": "code",
      "source": [
        "hb.isna().sum()"
      ],
      "metadata": {
        "colab": {
          "base_uri": "https://localhost:8080/"
        },
        "id": "m-WcY8d05LAg",
        "outputId": "99105bb5-1994-4f80-c614-a2b036c97f63"
      },
      "execution_count": null,
      "outputs": [
        {
          "output_type": "execute_result",
          "data": {
            "text/plain": [
              "hotel                             0\n",
              "is_canceled                       0\n",
              "lead_time                         0\n",
              "arrival_date_year                 0\n",
              "arrival_date_month                0\n",
              "arrival_date_week_number          0\n",
              "arrival_date_day_of_month         0\n",
              "stays_in_weekend_nights           0\n",
              "stays_in_week_nights              0\n",
              "adults                            0\n",
              "children                          0\n",
              "babies                            0\n",
              "meal                              0\n",
              "country                           0\n",
              "market_segment                    0\n",
              "distribution_channel              0\n",
              "is_repeated_guest                 0\n",
              "previous_cancellations            0\n",
              "previous_bookings_not_canceled    0\n",
              "reserved_room_type                0\n",
              "assigned_room_type                0\n",
              "booking_changes                   0\n",
              "deposit_type                      0\n",
              "agent                             0\n",
              "company                           0\n",
              "days_in_waiting_list              0\n",
              "customer_type                     0\n",
              "adr                               0\n",
              "required_car_parking_spaces       0\n",
              "total_of_special_requests         0\n",
              "reservation_status                0\n",
              "reservation_status_date           0\n",
              "dtype: int64"
            ]
          },
          "metadata": {},
          "execution_count": 14
        }
      ]
    },
    {
      "cell_type": "code",
      "source": [
        "hb.duplicated().value_counts()"
      ],
      "metadata": {
        "colab": {
          "base_uri": "https://localhost:8080/"
        },
        "id": "w76HumHlziNG",
        "outputId": "a229189a-ebb6-4410-b33e-ad6c1d1cf199"
      },
      "execution_count": null,
      "outputs": [
        {
          "output_type": "execute_result",
          "data": {
            "text/plain": [
              "False    87396\n",
              "True     31994\n",
              "dtype: int64"
            ]
          },
          "metadata": {},
          "execution_count": 15
        }
      ]
    },
    {
      "cell_type": "code",
      "source": [
        "# hb.drop(['agent','company'],axis=1,inplace=True)"
      ],
      "metadata": {
        "id": "rQA3Zag2zUTi"
      },
      "execution_count": null,
      "outputs": []
    },
    {
      "cell_type": "code",
      "source": [
        "hb.dtypes"
      ],
      "metadata": {
        "colab": {
          "base_uri": "https://localhost:8080/"
        },
        "id": "0nK6F16E5oGL",
        "outputId": "3e62fda9-4f17-4a9c-9317-6374a6f9e419"
      },
      "execution_count": null,
      "outputs": [
        {
          "output_type": "execute_result",
          "data": {
            "text/plain": [
              "hotel                              object\n",
              "is_canceled                         int64\n",
              "lead_time                           int64\n",
              "arrival_date_year                   int64\n",
              "arrival_date_month                 object\n",
              "arrival_date_week_number            int64\n",
              "arrival_date_day_of_month           int64\n",
              "stays_in_weekend_nights             int64\n",
              "stays_in_week_nights                int64\n",
              "adults                              int64\n",
              "children                          float64\n",
              "babies                              int64\n",
              "meal                               object\n",
              "country                            object\n",
              "market_segment                     object\n",
              "distribution_channel               object\n",
              "is_repeated_guest                   int64\n",
              "previous_cancellations              int64\n",
              "previous_bookings_not_canceled      int64\n",
              "reserved_room_type                 object\n",
              "assigned_room_type                 object\n",
              "booking_changes                     int64\n",
              "deposit_type                       object\n",
              "agent                             float64\n",
              "company                           float64\n",
              "days_in_waiting_list                int64\n",
              "customer_type                      object\n",
              "adr                               float64\n",
              "required_car_parking_spaces         int64\n",
              "total_of_special_requests           int64\n",
              "reservation_status                 object\n",
              "reservation_status_date            object\n",
              "dtype: object"
            ]
          },
          "metadata": {},
          "execution_count": 17
        }
      ]
    },
    {
      "cell_type": "markdown",
      "source": [
        "#Adding new cloumns"
      ],
      "metadata": {
        "id": "iPghz7Ou0Aob"
      }
    },
    {
      "cell_type": "code",
      "source": [
        "hb['total_staying_nights'] = hb['stays_in_week_nights'] + hb['stays_in_weekend_nights']\n",
        "\n",
        "hb['total_people'] = hb['children'] + hb['babies'] + hb['adults']"
      ],
      "metadata": {
        "id": "suLd1G1j1CJ4"
      },
      "execution_count": null,
      "outputs": []
    },
    {
      "cell_type": "code",
      "source": [
        "hb.head()"
      ],
      "metadata": {
        "colab": {
          "base_uri": "https://localhost:8080/",
          "height": 386
        },
        "id": "3k0pRHIl1Qlg",
        "outputId": "1619b1a7-6a04-43cb-c30b-bc8cbaa60b72"
      },
      "execution_count": null,
      "outputs": [
        {
          "output_type": "execute_result",
          "data": {
            "text/plain": [
              "          hotel  is_canceled  lead_time  arrival_date_year arrival_date_month  \\\n",
              "0  Resort Hotel            0        342               2015               July   \n",
              "1  Resort Hotel            0        737               2015               July   \n",
              "2  Resort Hotel            0          7               2015               July   \n",
              "3  Resort Hotel            0         13               2015               July   \n",
              "4  Resort Hotel            0         14               2015               July   \n",
              "\n",
              "   arrival_date_week_number  arrival_date_day_of_month  \\\n",
              "0                        27                          1   \n",
              "1                        27                          1   \n",
              "2                        27                          1   \n",
              "3                        27                          1   \n",
              "4                        27                          1   \n",
              "\n",
              "   stays_in_weekend_nights  stays_in_week_nights  adults  ...  company  \\\n",
              "0                        0                     0       2  ...      0.0   \n",
              "1                        0                     0       2  ...      0.0   \n",
              "2                        0                     1       1  ...      0.0   \n",
              "3                        0                     1       1  ...      0.0   \n",
              "4                        0                     2       2  ...      0.0   \n",
              "\n",
              "   days_in_waiting_list customer_type   adr required_car_parking_spaces  \\\n",
              "0                     0     Transient   0.0                           0   \n",
              "1                     0     Transient   0.0                           0   \n",
              "2                     0     Transient  75.0                           0   \n",
              "3                     0     Transient  75.0                           0   \n",
              "4                     0     Transient  98.0                           0   \n",
              "\n",
              "  total_of_special_requests  reservation_status  reservation_status_date  \\\n",
              "0                         0           Check-Out               2015-07-01   \n",
              "1                         0           Check-Out               2015-07-01   \n",
              "2                         0           Check-Out               2015-07-02   \n",
              "3                         0           Check-Out               2015-07-02   \n",
              "4                         1           Check-Out               2015-07-03   \n",
              "\n",
              "   total_staying_nights total_people  \n",
              "0                     0          2.0  \n",
              "1                     0          2.0  \n",
              "2                     1          1.0  \n",
              "3                     1          1.0  \n",
              "4                     2          2.0  \n",
              "\n",
              "[5 rows x 34 columns]"
            ],
            "text/html": [
              "\n",
              "  <div id=\"df-c503d59f-6ae5-4397-91fd-e5d7f5196ba2\">\n",
              "    <div class=\"colab-df-container\">\n",
              "      <div>\n",
              "<style scoped>\n",
              "    .dataframe tbody tr th:only-of-type {\n",
              "        vertical-align: middle;\n",
              "    }\n",
              "\n",
              "    .dataframe tbody tr th {\n",
              "        vertical-align: top;\n",
              "    }\n",
              "\n",
              "    .dataframe thead th {\n",
              "        text-align: right;\n",
              "    }\n",
              "</style>\n",
              "<table border=\"1\" class=\"dataframe\">\n",
              "  <thead>\n",
              "    <tr style=\"text-align: right;\">\n",
              "      <th></th>\n",
              "      <th>hotel</th>\n",
              "      <th>is_canceled</th>\n",
              "      <th>lead_time</th>\n",
              "      <th>arrival_date_year</th>\n",
              "      <th>arrival_date_month</th>\n",
              "      <th>arrival_date_week_number</th>\n",
              "      <th>arrival_date_day_of_month</th>\n",
              "      <th>stays_in_weekend_nights</th>\n",
              "      <th>stays_in_week_nights</th>\n",
              "      <th>adults</th>\n",
              "      <th>...</th>\n",
              "      <th>company</th>\n",
              "      <th>days_in_waiting_list</th>\n",
              "      <th>customer_type</th>\n",
              "      <th>adr</th>\n",
              "      <th>required_car_parking_spaces</th>\n",
              "      <th>total_of_special_requests</th>\n",
              "      <th>reservation_status</th>\n",
              "      <th>reservation_status_date</th>\n",
              "      <th>total_staying_nights</th>\n",
              "      <th>total_people</th>\n",
              "    </tr>\n",
              "  </thead>\n",
              "  <tbody>\n",
              "    <tr>\n",
              "      <th>0</th>\n",
              "      <td>Resort Hotel</td>\n",
              "      <td>0</td>\n",
              "      <td>342</td>\n",
              "      <td>2015</td>\n",
              "      <td>July</td>\n",
              "      <td>27</td>\n",
              "      <td>1</td>\n",
              "      <td>0</td>\n",
              "      <td>0</td>\n",
              "      <td>2</td>\n",
              "      <td>...</td>\n",
              "      <td>0.0</td>\n",
              "      <td>0</td>\n",
              "      <td>Transient</td>\n",
              "      <td>0.0</td>\n",
              "      <td>0</td>\n",
              "      <td>0</td>\n",
              "      <td>Check-Out</td>\n",
              "      <td>2015-07-01</td>\n",
              "      <td>0</td>\n",
              "      <td>2.0</td>\n",
              "    </tr>\n",
              "    <tr>\n",
              "      <th>1</th>\n",
              "      <td>Resort Hotel</td>\n",
              "      <td>0</td>\n",
              "      <td>737</td>\n",
              "      <td>2015</td>\n",
              "      <td>July</td>\n",
              "      <td>27</td>\n",
              "      <td>1</td>\n",
              "      <td>0</td>\n",
              "      <td>0</td>\n",
              "      <td>2</td>\n",
              "      <td>...</td>\n",
              "      <td>0.0</td>\n",
              "      <td>0</td>\n",
              "      <td>Transient</td>\n",
              "      <td>0.0</td>\n",
              "      <td>0</td>\n",
              "      <td>0</td>\n",
              "      <td>Check-Out</td>\n",
              "      <td>2015-07-01</td>\n",
              "      <td>0</td>\n",
              "      <td>2.0</td>\n",
              "    </tr>\n",
              "    <tr>\n",
              "      <th>2</th>\n",
              "      <td>Resort Hotel</td>\n",
              "      <td>0</td>\n",
              "      <td>7</td>\n",
              "      <td>2015</td>\n",
              "      <td>July</td>\n",
              "      <td>27</td>\n",
              "      <td>1</td>\n",
              "      <td>0</td>\n",
              "      <td>1</td>\n",
              "      <td>1</td>\n",
              "      <td>...</td>\n",
              "      <td>0.0</td>\n",
              "      <td>0</td>\n",
              "      <td>Transient</td>\n",
              "      <td>75.0</td>\n",
              "      <td>0</td>\n",
              "      <td>0</td>\n",
              "      <td>Check-Out</td>\n",
              "      <td>2015-07-02</td>\n",
              "      <td>1</td>\n",
              "      <td>1.0</td>\n",
              "    </tr>\n",
              "    <tr>\n",
              "      <th>3</th>\n",
              "      <td>Resort Hotel</td>\n",
              "      <td>0</td>\n",
              "      <td>13</td>\n",
              "      <td>2015</td>\n",
              "      <td>July</td>\n",
              "      <td>27</td>\n",
              "      <td>1</td>\n",
              "      <td>0</td>\n",
              "      <td>1</td>\n",
              "      <td>1</td>\n",
              "      <td>...</td>\n",
              "      <td>0.0</td>\n",
              "      <td>0</td>\n",
              "      <td>Transient</td>\n",
              "      <td>75.0</td>\n",
              "      <td>0</td>\n",
              "      <td>0</td>\n",
              "      <td>Check-Out</td>\n",
              "      <td>2015-07-02</td>\n",
              "      <td>1</td>\n",
              "      <td>1.0</td>\n",
              "    </tr>\n",
              "    <tr>\n",
              "      <th>4</th>\n",
              "      <td>Resort Hotel</td>\n",
              "      <td>0</td>\n",
              "      <td>14</td>\n",
              "      <td>2015</td>\n",
              "      <td>July</td>\n",
              "      <td>27</td>\n",
              "      <td>1</td>\n",
              "      <td>0</td>\n",
              "      <td>2</td>\n",
              "      <td>2</td>\n",
              "      <td>...</td>\n",
              "      <td>0.0</td>\n",
              "      <td>0</td>\n",
              "      <td>Transient</td>\n",
              "      <td>98.0</td>\n",
              "      <td>0</td>\n",
              "      <td>1</td>\n",
              "      <td>Check-Out</td>\n",
              "      <td>2015-07-03</td>\n",
              "      <td>2</td>\n",
              "      <td>2.0</td>\n",
              "    </tr>\n",
              "  </tbody>\n",
              "</table>\n",
              "<p>5 rows × 34 columns</p>\n",
              "</div>\n",
              "      <button class=\"colab-df-convert\" onclick=\"convertToInteractive('df-c503d59f-6ae5-4397-91fd-e5d7f5196ba2')\"\n",
              "              title=\"Convert this dataframe to an interactive table.\"\n",
              "              style=\"display:none;\">\n",
              "        \n",
              "  <svg xmlns=\"http://www.w3.org/2000/svg\" height=\"24px\"viewBox=\"0 0 24 24\"\n",
              "       width=\"24px\">\n",
              "    <path d=\"M0 0h24v24H0V0z\" fill=\"none\"/>\n",
              "    <path d=\"M18.56 5.44l.94 2.06.94-2.06 2.06-.94-2.06-.94-.94-2.06-.94 2.06-2.06.94zm-11 1L8.5 8.5l.94-2.06 2.06-.94-2.06-.94L8.5 2.5l-.94 2.06-2.06.94zm10 10l.94 2.06.94-2.06 2.06-.94-2.06-.94-.94-2.06-.94 2.06-2.06.94z\"/><path d=\"M17.41 7.96l-1.37-1.37c-.4-.4-.92-.59-1.43-.59-.52 0-1.04.2-1.43.59L10.3 9.45l-7.72 7.72c-.78.78-.78 2.05 0 2.83L4 21.41c.39.39.9.59 1.41.59.51 0 1.02-.2 1.41-.59l7.78-7.78 2.81-2.81c.8-.78.8-2.07 0-2.86zM5.41 20L4 18.59l7.72-7.72 1.47 1.35L5.41 20z\"/>\n",
              "  </svg>\n",
              "      </button>\n",
              "      \n",
              "  <style>\n",
              "    .colab-df-container {\n",
              "      display:flex;\n",
              "      flex-wrap:wrap;\n",
              "      gap: 12px;\n",
              "    }\n",
              "\n",
              "    .colab-df-convert {\n",
              "      background-color: #E8F0FE;\n",
              "      border: none;\n",
              "      border-radius: 50%;\n",
              "      cursor: pointer;\n",
              "      display: none;\n",
              "      fill: #1967D2;\n",
              "      height: 32px;\n",
              "      padding: 0 0 0 0;\n",
              "      width: 32px;\n",
              "    }\n",
              "\n",
              "    .colab-df-convert:hover {\n",
              "      background-color: #E2EBFA;\n",
              "      box-shadow: 0px 1px 2px rgba(60, 64, 67, 0.3), 0px 1px 3px 1px rgba(60, 64, 67, 0.15);\n",
              "      fill: #174EA6;\n",
              "    }\n",
              "\n",
              "    [theme=dark] .colab-df-convert {\n",
              "      background-color: #3B4455;\n",
              "      fill: #D2E3FC;\n",
              "    }\n",
              "\n",
              "    [theme=dark] .colab-df-convert:hover {\n",
              "      background-color: #434B5C;\n",
              "      box-shadow: 0px 1px 3px 1px rgba(0, 0, 0, 0.15);\n",
              "      filter: drop-shadow(0px 1px 2px rgba(0, 0, 0, 0.3));\n",
              "      fill: #FFFFFF;\n",
              "    }\n",
              "  </style>\n",
              "\n",
              "      <script>\n",
              "        const buttonEl =\n",
              "          document.querySelector('#df-c503d59f-6ae5-4397-91fd-e5d7f5196ba2 button.colab-df-convert');\n",
              "        buttonEl.style.display =\n",
              "          google.colab.kernel.accessAllowed ? 'block' : 'none';\n",
              "\n",
              "        async function convertToInteractive(key) {\n",
              "          const element = document.querySelector('#df-c503d59f-6ae5-4397-91fd-e5d7f5196ba2');\n",
              "          const dataTable =\n",
              "            await google.colab.kernel.invokeFunction('convertToInteractive',\n",
              "                                                     [key], {});\n",
              "          if (!dataTable) return;\n",
              "\n",
              "          const docLinkHtml = 'Like what you see? Visit the ' +\n",
              "            '<a target=\"_blank\" href=https://colab.research.google.com/notebooks/data_table.ipynb>data table notebook</a>'\n",
              "            + ' to learn more about interactive tables.';\n",
              "          element.innerHTML = '';\n",
              "          dataTable['output_type'] = 'display_data';\n",
              "          await google.colab.output.renderOutput(dataTable, element);\n",
              "          const docLink = document.createElement('div');\n",
              "          docLink.innerHTML = docLinkHtml;\n",
              "          element.appendChild(docLink);\n",
              "        }\n",
              "      </script>\n",
              "    </div>\n",
              "  </div>\n",
              "  "
            ]
          },
          "metadata": {},
          "execution_count": 19
        }
      ]
    },
    {
      "cell_type": "markdown",
      "source": [
        "# NOW DEALING WITH THE PORBLEM"
      ],
      "metadata": {
        "id": "kNrZceuisdPb"
      }
    },
    {
      "cell_type": "markdown",
      "source": [
        "\n",
        "# 1.What are the Top 10 Countries of Origin of Hotel visitors (Guests)\n"
      ],
      "metadata": {
        "id": "BK3nm1AA53N9"
      }
    },
    {
      "cell_type": "code",
      "source": [
        "hb['country'].value_counts().head(10)\n",
        "\n",
        "hb1 = hb[\"country\"].value_counts().head(10)\n",
        "hb1.plot(kind='bar')\n",
        "\n",
        "plt.title('Top 10 country ')\n",
        "plt.ylabel('Count')\n",
        "plt.xlabel('Country')"
      ],
      "metadata": {
        "colab": {
          "base_uri": "https://localhost:8080/",
          "height": 325
        },
        "id": "SZiDvsPv6rnS",
        "outputId": "a06d85db-6173-4385-b1bb-8a67a16b8f14"
      },
      "execution_count": null,
      "outputs": [
        {
          "output_type": "execute_result",
          "data": {
            "text/plain": [
              "Text(0.5, 0, 'Country')"
            ]
          },
          "metadata": {},
          "execution_count": 67
        },
        {
          "output_type": "display_data",
          "data": {
            "text/plain": [
              "<Figure size 432x288 with 1 Axes>"
            ],
            "image/png": "[encoded data removed]"
          },
          "metadata": {
            "needs_background": "light"
          }
        }
      ]
    },
    {
      "cell_type": "markdown",
      "source": [
        "Portugal, GBR ,France, Spain and Germany are the top countries from most guests come, more than 80% come from these 5 countries."
      ],
      "metadata": {
        "id": "cz1l6Xcr7Upb"
      }
    },
    {
      "cell_type": "markdown",
      "source": [
        "#2.Which Month is the Most Occupied with Bookings at the Hotel?"
      ],
      "metadata": {
        "id": "YwMA-7dU7kl1"
      }
    },
    {
      "cell_type": "code",
      "source": [
        "hb['arrival_date_month'].value_counts()"
      ],
      "metadata": {
        "colab": {
          "base_uri": "https://localhost:8080/"
        },
        "id": "0Lp0Wdi36hla",
        "outputId": "da1b936c-b68c-48eb-f93c-4d6f186cff80"
      },
      "execution_count": null,
      "outputs": [
        {
          "output_type": "execute_result",
          "data": {
            "text/plain": [
              "August       13877\n",
              "July         12661\n",
              "May          11791\n",
              "October      11160\n",
              "April        11089\n",
              "June         10939\n",
              "September    10508\n",
              "March         9794\n",
              "February      8068\n",
              "November      6794\n",
              "December      6780\n",
              "January       5929\n",
              "Name: arrival_date_month, dtype: int64"
            ]
          },
          "metadata": {},
          "execution_count": 22
        }
      ]
    },
    {
      "cell_type": "code",
      "source": [
        "plt.figure(figsize=(16,6))\n",
        "sns.countplot(x='arrival_date_month', data= hb)\n",
        "\n",
        "plt.title('Months of Arrival ')\n",
        "plt.ylabel('Count')\n",
        "plt.xlabel('month')\n",
        "plt.show()\n"
      ],
      "metadata": {
        "colab": {
          "base_uri": "https://localhost:8080/",
          "height": 404
        },
        "id": "meYUVgLp7dus",
        "outputId": "65c6e528-57b7-4ebd-eb1b-6b80f0019fb8"
      },
      "execution_count": null,
      "outputs": [
        {
          "output_type": "display_data",
          "data": {
            "text/plain": [
              "<Figure size 1152x432 with 1 Axes>"
            ],
            "image/png": "[encoded data removed]"
          },
          "metadata": {
            "needs_background": "light"
          }
        }
      ]
    },
    {
      "cell_type": "markdown",
      "source": [
        "August,July,May,october and April are the top month where booking has been done by  guests."
      ],
      "metadata": {
        "id": "K5eXxEat7-jY"
      }
    },
    {
      "cell_type": "markdown",
      "source": [
        "# 3.What is the booking ratio between Resort Hotel and City Hotel?"
      ],
      "metadata": {
        "id": "uDICgGDp957j"
      }
    },
    {
      "cell_type": "code",
      "source": [
        "# hotel Booking\n",
        "hb['hotel'].value_counts().head()\n"
      ],
      "metadata": {
        "colab": {
          "base_uri": "https://localhost:8080/"
        },
        "id": "rZGW3TCD8YVH",
        "outputId": "3b393c2b-0d9a-4ab0-eca3-560599e179c4"
      },
      "execution_count": null,
      "outputs": [
        {
          "output_type": "execute_result",
          "data": {
            "text/plain": [
              "City Hotel      79330\n",
              "Resort Hotel    40060\n",
              "Name: hotel, dtype: int64"
            ]
          },
          "metadata": {},
          "execution_count": 25
        }
      ]
    },
    {
      "cell_type": "code",
      "source": [
        "hotels=hb['hotel'].value_counts()\n",
        "hotels.plot(kind='pie',autopct='%1.0f%%',shadow=True,explode=[0.0,0.1])\n",
        "plt.title(\"Hotel Booking\")\n",
        "plt.show()"
      ],
      "metadata": {
        "colab": {
          "base_uri": "https://localhost:8080/",
          "height": 264
        },
        "id": "G4scE5vi9NFC",
        "outputId": "ef4b3d97-5158-4af2-9965-52be20660816"
      },
      "execution_count": null,
      "outputs": [
        {
          "output_type": "display_data",
          "data": {
            "text/plain": [
              "<Figure size 432x288 with 1 Axes>"
            ],
            "image/png": "[encoded data removed]"
          },
          "metadata": {}
        }
      ]
    },
    {
      "cell_type": "markdown",
      "source": [
        "**Most Of the people have booked the City hotel"
      ],
      "metadata": {
        "id": "krKAk68-9fwB"
      }
    },
    {
      "cell_type": "markdown",
      "source": [
        "#4.Total Number of Bookings by Market Segment"
      ],
      "metadata": {
        "id": "gIAREqY5AWt1"
      }
    },
    {
      "cell_type": "code",
      "source": [
        "hb['market_segment'].value_counts().head()\n",
        "hb3=hb['market_segment'].value_counts().head()\n",
        "hb3.plot(kind='pie',autopct='%1.0f%%',shadow=True,explode=[0.0,0.1,0.1,0.1,0.0])\n",
        "plt.title(\"Market_segment\")\n",
        "plt.show()\n",
        "\n"
      ],
      "metadata": {
        "colab": {
          "base_uri": "https://localhost:8080/",
          "height": 265
        },
        "id": "v93cw9b5FU_v",
        "outputId": "f48aed41-d999-4da4-cb65-9b1fbe158a74"
      },
      "execution_count": null,
      "outputs": [
        {
          "output_type": "display_data",
          "data": {
            "text/plain": [
              "<Figure size 432x288 with 1 Axes>"
            ],
            "image/png": "[encoded data removed]"
          },
          "metadata": {}
        }
      ]
    },
    {
      "cell_type": "markdown",
      "source": [
        "In market segment most of the booking have been done Onlne "
      ],
      "metadata": {
        "id": "AmpUCW3JFh6i"
      }
    },
    {
      "cell_type": "markdown",
      "source": [
        "#5.Arrival per year "
      ],
      "metadata": {
        "id": "c2G-e-pJFdti"
      }
    },
    {
      "cell_type": "code",
      "source": [
        "hb['arrival_date_year'].sort_index().value_counts(sort=False)\n",
        "\n",
        "hb4 = hb['arrival_date_year'].sort_index().value_counts(sort=False)\n",
        "\n",
        "hb4.plot(kind='pie',autopct='%1.0f%%',shadow=True,explode=[0.01,0.0,0.1])\n",
        "plt.title(\"Arrival year\")\n",
        "plt.show()"
      ],
      "metadata": {
        "colab": {
          "base_uri": "https://localhost:8080/",
          "height": 264
        },
        "id": "FhZOmWsWFeh9",
        "outputId": "542d13c6-a934-4735-c524-a68645ef0863"
      },
      "execution_count": null,
      "outputs": [
        {
          "output_type": "display_data",
          "data": {
            "text/plain": [
              "<Figure size 432x288 with 1 Axes>"
            ],
            "image/png": "[encoded data removed]"
          },
          "metadata": {}
        }
      ]
    },
    {
      "cell_type": "markdown",
      "source": [
        "In 2016 More booking was been done as compare with 2015 and 2017"
      ],
      "metadata": {
        "id": "CmAwcEQwFxfH"
      }
    },
    {
      "cell_type": "markdown",
      "source": [
        "#6.Arrival Date Year vs Lead Time By Booking Cancellation Status"
      ],
      "metadata": {
        "id": "lO_yh-56Ok4T"
      }
    },
    {
      "cell_type": "code",
      "source": [
        "hb['adr'] = hb['adr'].astype(float)\n",
        "plt.figure(figsize=(15,10))\n",
        "sns.barplot(x='arrival_date_month', y='adr', hue='is_canceled', dodge=True, palette='PuBu_r', data=hb)\n",
        "plt.title('Arrival Month vs ADR vs Booking Cancellation Status', weight='bold')\n",
        "plt.xlabel('Arrival Month', fontsize=12)\n",
        "plt.ylabel('ADR', fontsize=12)"
      ],
      "metadata": {
        "colab": {
          "base_uri": "https://localhost:8080/",
          "height": 643
        },
        "id": "jdJ8KbbqF79J",
        "outputId": "ecd50b5f-5092-4335-96b5-8ed77e9495be"
      },
      "execution_count": null,
      "outputs": [
        {
          "output_type": "execute_result",
          "data": {
            "text/plain": [
              "Text(0, 0.5, 'ADR')"
            ]
          },
          "metadata": {},
          "execution_count": 32
        },
        {
          "output_type": "display_data",
          "data": {
            "text/plain": [
              "<Figure size 1080x720 with 1 Axes>"
            ],
            "image/png": "[encoded data removed]"
          },
          "metadata": {
            "needs_background": "light"
          }
        }
      ]
    },
    {
      "cell_type": "markdown",
      "source": [
        "# 7.How Long People Stay in the hotel"
      ],
      "metadata": {
        "id": "a6mMGisYW0Mj"
      }
    },
    {
      "cell_type": "code",
      "source": [
        "\n",
        "hb.loc['total_staying_nights'] = hb['stays_in_weekend_nights']+ hb['stays_in_week_nights']\n",
        "\n",
        "fig, ax = plt.subplots(figsize=(12,6))\n",
        "ax.set_xlabel('No of Nights')\n",
        "ax.set_ylabel('No of Nights')\n",
        "ax.set_title('Hotel wise night stay duration (Top 10)')\n",
        "sns.countplot(x='total_staying_nights', hue='hotel', data=hb,\n",
        "              order = hb.total_staying_nights.value_counts().iloc[:10].index, ax=ax);"
      ],
      "metadata": {
        "colab": {
          "base_uri": "https://localhost:8080/",
          "height": 405
        },
        "id": "O_axZuw-W3BE",
        "outputId": "dcb9edae-eb0e-4a63-8d7c-2f4918f2c9ae"
      },
      "execution_count": null,
      "outputs": [
        {
          "output_type": "display_data",
          "data": {
            "text/plain": [
              "<Figure size 864x432 with 1 Axes>"
            ],
            "image/png": "[encoded data removed]"
          },
          "metadata": {
            "needs_background": "light"
          }
        }
      ]
    },
    {
      "cell_type": "markdown",
      "source": [
        "Most people stay for one, two, or three. More than 60% of guests come under these three options."
      ],
      "metadata": {
        "id": "HQ-Ok5sNXVby"
      }
    },
    {
      "cell_type": "markdown",
      "source": [
        "# 8. Preference of MEAL"
      ],
      "metadata": {
        "id": "q72l3t_e8laL"
      }
    },
    {
      "cell_type": "code",
      "source": [
        "hb['meal'].value_counts().head(10)\n",
        "\n",
        "hb2=hb['meal'].value_counts().head(10)\n",
        "hb2"
      ],
      "metadata": {
        "colab": {
          "base_uri": "https://localhost:8080/"
        },
        "id": "R87IpnuE7fhw",
        "outputId": "68721456-1945-4b1b-d605-f113319309e6"
      },
      "execution_count": null,
      "outputs": [
        {
          "output_type": "execute_result",
          "data": {
            "text/plain": [
              "BB           92310\n",
              "HB           14463\n",
              "SC           10650\n",
              "Undefined     1169\n",
              "FB             798\n",
              "Name: meal, dtype: int64"
            ]
          },
          "metadata": {},
          "execution_count": 69
        }
      ]
    },
    {
      "cell_type": "code",
      "source": [
        "hb2=hb['meal'].value_counts().head(10)\n",
        "hb2.plot(kind='pie',autopct='%1.0f%%')\n",
        "\n",
        "plt.title('PREFERED MEAL')\n",
        "plt.ylabel('count')\n",
        "plt.xlabel('MEAL')"
      ],
      "metadata": {
        "colab": {
          "base_uri": "https://localhost:8080/",
          "height": 296
        },
        "id": "6kXMz1YTZMpY",
        "outputId": "bd404be3-7f27-4329-872e-c43e8f768a81"
      },
      "execution_count": null,
      "outputs": [
        {
          "output_type": "execute_result",
          "data": {
            "text/plain": [
              "Text(0.5, 0, 'MEAL')"
            ]
          },
          "metadata": {},
          "execution_count": 70
        },
        {
          "output_type": "display_data",
          "data": {
            "text/plain": [
              "<Figure size 432x288 with 1 Axes>"
            ],
            "image/png": "[encoded data removed]"
          },
          "metadata": {}
        }
      ]
    },
    {
      "cell_type": "markdown",
      "source": [
        "Most of the visitors preferred BB & HB and least preferred is FB "
      ],
      "metadata": {
        "id": "u-8MkvVl85a1"
      }
    },
    {
      "cell_type": "markdown",
      "source": [
        "# 09. Hotel preference by Customer Type "
      ],
      "metadata": {
        "id": "PNfnY3apjMY_"
      }
    },
    {
      "cell_type": "code",
      "source": [
        "\n",
        "\n",
        "fig, ax = plt.subplots(figsize=(12,6))\n",
        "ax.set_xlabel('No of Nights')\n",
        "ax.set_ylabel('No of Nights')\n",
        "ax.set_title('Hotel preference by Customer Type ')\n",
        "sns.countplot(x='customer_type', hue='hotel', data=hb,\n",
        "              order = hb.customer_type.value_counts().iloc[:10].index, ax=ax);"
      ],
      "metadata": {
        "colab": {
          "base_uri": "https://localhost:8080/",
          "height": 404
        },
        "id": "v52SSz9bi6sY",
        "outputId": "ba1d43ae-b445-46c8-e683-27130372c0a4"
      },
      "execution_count": null,
      "outputs": [
        {
          "output_type": "display_data",
          "data": {
            "text/plain": [
              "<Figure size 864x432 with 1 Axes>"
            ],
            "image/png": "[encoded data removed]"
          },
          "metadata": {
            "needs_background": "light"
          }
        }
      ]
    },
    {
      "cell_type": "markdown",
      "source": [
        "Transient and transient party has done more booking and Preferred City Hotel to stay"
      ],
      "metadata": {
        "id": "PU24K9s7uBHT"
      }
    },
    {
      "cell_type": "markdown",
      "source": [
        "# 10. Rate of Cancellation"
      ],
      "metadata": {
        "id": "xfy_YeN-lES4"
      }
    },
    {
      "cell_type": "code",
      "source": [
        "# 0 booking not-cancel \n",
        "# 1 booking cancel\n",
        "\n",
        "hb3=hb['is_canceled'].value_counts()\n",
        "hb3.plot(kind='pie',autopct='%1.0f%%')\n",
        "\n",
        "plt.title('Cancelled ')\n"
      ],
      "metadata": {
        "colab": {
          "base_uri": "https://localhost:8080/",
          "height": 282
        },
        "id": "MlpoIIcPr3Vn",
        "outputId": "51b6c712-014f-4f23-e96f-c27c8d146ac7"
      },
      "execution_count": null,
      "outputs": [
        {
          "output_type": "execute_result",
          "data": {
            "text/plain": [
              "Text(0.5, 1.0, 'Cancelled ')"
            ]
          },
          "metadata": {},
          "execution_count": 40
        },
        {
          "output_type": "display_data",
          "data": {
            "text/plain": [
              "<Figure size 432x288 with 1 Axes>"
            ],
            "image/png": "[encoded data removed]"
          },
          "metadata": {}
        }
      ]
    },
    {
      "cell_type": "markdown",
      "source": [
        "37 % of Total Booking got canceled \n"
      ],
      "metadata": {
        "id": "PbaOVNSLu1qS"
      }
    },
    {
      "cell_type": "markdown",
      "source": [
        "# 11. Rate of Cancellation by Hotel Type"
      ],
      "metadata": {
        "id": "u8lSwIzgr22S"
      }
    },
    {
      "cell_type": "code",
      "source": [
        "# 0 booking not-cancel \n",
        "# 1 booking cancel\n",
        "\n",
        "plt.figure(figsize=(12,8))\n",
        "sns.countplot(x='hotel', hue = 'is_canceled', data= hb)\n",
        "plt.title('Cancellation Situation')\n",
        "plt.show()\n",
        "\n"
      ],
      "metadata": {
        "colab": {
          "base_uri": "https://localhost:8080/",
          "height": 513
        },
        "id": "ZfguDKLquR__",
        "outputId": "21f39378-63d2-470a-ca57-9bbf5f243bde"
      },
      "execution_count": null,
      "outputs": [
        {
          "output_type": "display_data",
          "data": {
            "text/plain": [
              "<Figure size 864x576 with 1 Axes>"
            ],
            "image/png": "[encoded data removed]"
          },
          "metadata": {
            "needs_background": "light"
          }
        }
      ]
    },
    {
      "cell_type": "markdown",
      "source": [
        "City Hotel has more rate of cancellation then Resort Hotel "
      ],
      "metadata": {
        "id": "gkXI_PGMvDUu"
      }
    },
    {
      "cell_type": "markdown",
      "source": [
        "# 12. Top demading Room"
      ],
      "metadata": {
        "id": "-qdNXc4mqIa-"
      }
    },
    {
      "cell_type": "code",
      "source": [
        "hb['assigned_room_type'].unique()"
      ],
      "metadata": {
        "colab": {
          "base_uri": "https://localhost:8080/"
        },
        "id": "fviLBQ8LlUAN",
        "outputId": "99ea7df1-6a82-44ba-a308-6ffa8eb8c5ab"
      },
      "execution_count": null,
      "outputs": [
        {
          "output_type": "execute_result",
          "data": {
            "text/plain": [
              "array(['C', 'A', 'D', 'E', 'G', 'F', 'I', 'B', 'H', 'P', 'L', 'K', nan],\n",
              "      dtype=object)"
            ]
          },
          "metadata": {},
          "execution_count": 42
        }
      ]
    },
    {
      "cell_type": "code",
      "source": [
        "hb['assigned_room_type'].value_counts().head(10)\n",
        "\n",
        "hb3 = hb[\"assigned_room_type\"].value_counts().head(10)\n",
        "hb3.plot(kind='bar')\n",
        "\n",
        "plt.title('Top demading_room_type ')\n",
        "plt.ylabel('Count')\n",
        "plt.xlabel('assigned_room_type')\n",
        "plt.show()"
      ],
      "metadata": {
        "colab": {
          "base_uri": "https://localhost:8080/",
          "height": 294
        },
        "id": "FfYqrlvjGPx4",
        "outputId": "25129b6f-9d5b-4bc3-c862-486a844df8c2"
      },
      "execution_count": null,
      "outputs": [
        {
          "output_type": "display_data",
          "data": {
            "text/plain": [
              "<Figure size 432x288 with 1 Axes>"
            ],
            "image/png": "[encoded data removed]"
          },
          "metadata": {
            "needs_background": "light"
          }
        }
      ]
    },
    {
      "cell_type": "markdown",
      "source": [
        "Room Type A is most preferred by the guest after that room type B Second most."
      ],
      "metadata": {
        "id": "Ln7DqMouvKLD"
      }
    },
    {
      "cell_type": "markdown",
      "source": [
        "# 13.Lead Time Vs Cancelation"
      ],
      "metadata": {
        "id": "e1xysG2wp5E8"
      }
    },
    {
      "cell_type": "code",
      "source": [
        "\n",
        "fig, ax = plt.subplots(figsize=(12,6))\n",
        "ax.set_xlabel('lead_time')\n",
        "ax.set_ylabel('is_canceled')\n",
        "ax.set_title('Lead time VS cancelation ')\n",
        "sns.countplot(x='lead_time', data=hb,\n",
        "              order = hb.lead_time.value_counts().iloc[:10].index, ax=ax);"
      ],
      "metadata": {
        "colab": {
          "base_uri": "https://localhost:8080/",
          "height": 405
        },
        "id": "AIZG6DGRKk--",
        "outputId": "c467b526-c128-43f8-83f8-7bb1677c0dfa"
      },
      "execution_count": null,
      "outputs": [
        {
          "output_type": "display_data",
          "data": {
            "text/plain": [
              "<Figure size 864x432 with 1 Axes>"
            ],
            "image/png": "[encoded data removed]"
          },
          "metadata": {
            "needs_background": "light"
          }
        }
      ]
    },
    {
      "cell_type": "markdown",
      "source": [
        "As lead time decreases Cancelation increases "
      ],
      "metadata": {
        "id": "ykLBI2sEvTRq"
      }
    },
    {
      "cell_type": "markdown",
      "source": [
        "# 14.Cancelation by Hotel"
      ],
      "metadata": {
        "id": "j2FbKoKPqYp9"
      }
    },
    {
      "cell_type": "code",
      "source": [
        "plt.figure(figsize=(12,4))\n",
        "sns.countplot(x='hotel', hue = 'is_repeated_guest', data= hb)\n",
        "plt.title('Cancellation Situation')\n",
        "plt.show()"
      ],
      "metadata": {
        "colab": {
          "base_uri": "https://localhost:8080/",
          "height": 295
        },
        "id": "1Fe4DjHoOiX9",
        "outputId": "5664ea78-9ebd-4b76-b0de-e840ed217ba6"
      },
      "execution_count": null,
      "outputs": [
        {
          "output_type": "display_data",
          "data": {
            "text/plain": [
              "<Figure size 864x288 with 1 Axes>"
            ],
            "image/png": "[encoded data removed]"
          },
          "metadata": {
            "needs_background": "light"
          }
        }
      ]
    },
    {
      "cell_type": "markdown",
      "source": [
        "# 15. Most Booking by agent ID"
      ],
      "metadata": {
        "id": "42yL6SJPLcST"
      }
    },
    {
      "cell_type": "code",
      "source": [
        "\n",
        "fig, ax = plt.subplots(figsize=(12,6))\n",
        "ax.set_xlabel('agent')\n",
        "ax.set_ylabel('agent')\n",
        "ax.set_title('Most Booking make by Agent ')\n",
        "sns.countplot(x='agent', data=hb,\n",
        "              order = hb.agent.value_counts().iloc[:10].index, ax=ax);"
      ],
      "metadata": {
        "colab": {
          "base_uri": "https://localhost:8080/",
          "height": 404
        },
        "id": "BzWC_7wKLvvN",
        "outputId": "a78e18c8-b5a7-495b-d338-3a626cdaf3b9"
      },
      "execution_count": null,
      "outputs": [
        {
          "output_type": "display_data",
          "data": {
            "text/plain": [
              "<Figure size 864x432 with 1 Axes>"
            ],
            "image/png": "[encoded data removed]"
          },
          "metadata": {
            "needs_background": "light"
          }
        }
      ]
    },
    {
      "cell_type": "markdown",
      "source": [
        "Agent ID – 9 has highest booking "
      ],
      "metadata": {
        "id": "4IaXR7PEwFjV"
      }
    },
    {
      "cell_type": "markdown",
      "source": [
        "# 16. Parking Space requirement"
      ],
      "metadata": {
        "id": "a_3OB3_rq7J5"
      }
    },
    {
      "cell_type": "code",
      "source": [
        "\n",
        "hb5=hb['required_car_parking_spaces'].value_counts()\n",
        "hb5.plot(kind='pie',autopct='%1.0f%%')\n",
        "\n",
        "plt.title('required_car_parking_spaces ')"
      ],
      "metadata": {
        "colab": {
          "base_uri": "https://localhost:8080/",
          "height": 282
        },
        "id": "AicWR-kVNGxH",
        "outputId": "75036f09-2293-48fb-84a4-46f45413dc58"
      },
      "execution_count": null,
      "outputs": [
        {
          "output_type": "execute_result",
          "data": {
            "text/plain": [
              "Text(0.5, 1.0, 'required_car_parking_spaces ')"
            ]
          },
          "metadata": {},
          "execution_count": 74
        },
        {
          "output_type": "display_data",
          "data": {
            "text/plain": [
              "<Figure size 432x288 with 1 Axes>"
            ],
            "image/png": "[encoded data removed]"
          },
          "metadata": {}
        }
      ]
    },
    {
      "cell_type": "markdown",
      "source": [
        "\n",
        "Most of the guest do not require car parking. Only 6% of guest car parking \n"
      ],
      "metadata": {
        "id": "1pcqBs-UwUdy"
      }
    },
    {
      "cell_type": "markdown",
      "source": [
        "# 17. Hotel Booking by Deposite Type"
      ],
      "metadata": {
        "id": "UpWoH5xSrwIF"
      }
    },
    {
      "cell_type": "code",
      "source": [
        "hb['deposit_type'].unique()"
      ],
      "metadata": {
        "colab": {
          "base_uri": "https://localhost:8080/"
        },
        "id": "VPTQmbj5QobZ",
        "outputId": "3f5da63d-0dbb-4c27-b8d1-c70ff146998f"
      },
      "execution_count": null,
      "outputs": [
        {
          "output_type": "execute_result",
          "data": {
            "text/plain": [
              "array(['No Deposit', 'Refundable', 'Non Refund', nan], dtype=object)"
            ]
          },
          "metadata": {},
          "execution_count": 53
        }
      ]
    },
    {
      "cell_type": "code",
      "source": [
        "hb['deposit_type'].value_counts()\n",
        "hb66=hb['deposit_type'].value_counts()\n",
        "hb66.plot(kind='pie',autopct='%1.0f%%')\n",
        "\n",
        "plt.title('deposit_type')\n",
        "plt.show()"
      ],
      "metadata": {
        "colab": {
          "base_uri": "https://localhost:8080/",
          "height": 264
        },
        "id": "eWSEQdfBQzBa",
        "outputId": "140ff9a9-ec11-48f6-d607-a6e07bfe0d1c"
      },
      "execution_count": null,
      "outputs": [
        {
          "output_type": "display_data",
          "data": {
            "text/plain": [
              "<Figure size 432x288 with 1 Axes>"
            ],
            "image/png": "[encoded data removed]"
          },
          "metadata": {}
        }
      ]
    },
    {
      "cell_type": "markdown",
      "source": [
        "Almost all of the guest preferred no deposit type of booking at hotel"
      ],
      "metadata": {
        "id": "KacqozzswcAC"
      }
    },
    {
      "cell_type": "markdown",
      "source": [
        "# 18. Repated Guest "
      ],
      "metadata": {
        "id": "-thWEQx0r_7q"
      }
    },
    {
      "cell_type": "code",
      "source": [
        "hb5=hb['is_repeated_guest'].value_counts()\n",
        "hb5.plot(kind='pie',autopct='%1.0f%%')\n",
        "\n",
        "plt.title('is_repeated_guest ')\n",
        "plt.ylabel('count')"
      ],
      "metadata": {
        "colab": {
          "base_uri": "https://localhost:8080/",
          "height": 282
        },
        "id": "JaXqln4qQWHQ",
        "outputId": "86c07024-72c4-4fad-bc60-6ffd357d8d6d"
      },
      "execution_count": null,
      "outputs": [
        {
          "output_type": "execute_result",
          "data": {
            "text/plain": [
              "Text(0, 0.5, 'count')"
            ]
          },
          "metadata": {},
          "execution_count": 64
        },
        {
          "output_type": "display_data",
          "data": {
            "text/plain": [
              "<Figure size 432x288 with 1 Axes>"
            ],
            "image/png": "[encoded data removed]"
          },
          "metadata": {}
        }
      ]
    },
    {
      "cell_type": "markdown",
      "source": [
        "\n",
        "Only 3% of the total guest were repeat and 97 % were new guests. So tendency of repeat guest is less\n"
      ],
      "metadata": {
        "id": "XCV6d7k0wjUI"
      }
    },
    {
      "cell_type": "markdown",
      "source": [
        "# 19. Booking by Distribution Channel"
      ],
      "metadata": {
        "id": "eu4oB6j4wqKa"
      }
    },
    {
      "cell_type": "code",
      "source": [
        "hb['distribution_channel'].value_counts().head()\n",
        "hb6=hb['distribution_channel'].value_counts().head()\n",
        "hb6.plot(kind='pie',autopct='%1.0f%%',shadow=True,explode=[0.1,0.1,0.1,0.1,0.2])\n",
        "plt.title(\"Distribution_channel\")\n",
        "plt.show()"
      ],
      "metadata": {
        "colab": {
          "base_uri": "https://localhost:8080/",
          "height": 264
        },
        "id": "nqMZldx8tH_S",
        "outputId": "059755d2-efb4-4aef-9163-2d3f600d2e26"
      },
      "execution_count": null,
      "outputs": [
        {
          "output_type": "display_data",
          "data": {
            "text/plain": [
              "<Figure size 432x288 with 1 Axes>"
            ],
            "image/png": "[encoded data removed]"
          },
          "metadata": {}
        }
      ]
    },
    {
      "cell_type": "markdown",
      "source": [
        "Most of the booking was done by TA/TO and direct."
      ],
      "metadata": {
        "id": "d6cvVVggw3JA"
      }
    },
    {
      "cell_type": "code",
      "source": [
        ""
      ],
      "metadata": {
        "id": "t-7UoZHRw4aW"
      },
      "execution_count": null,
      "outputs": []
    }
  ]
}